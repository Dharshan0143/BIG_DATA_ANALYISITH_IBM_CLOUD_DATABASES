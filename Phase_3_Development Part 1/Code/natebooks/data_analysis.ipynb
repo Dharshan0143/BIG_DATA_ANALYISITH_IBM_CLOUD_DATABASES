{
 "cells": [
  {
   "cell_type": "code",
   "execution_count": null,
   "metadata": {},
   "outputs": [],
   "source": [
    "import ibm_db\n",
    "import pandas as pd"
   ]
  },
  {
   "cell_type": "code",
   "execution_count": null,
   "metadata": {},
   "outputs": [],
   "source": [
    "db_credentials = {\n",
    "   \"hostname\": \"0c77d6f2-5da9-48a9-81f8-86b520b87518.bs2io90l08kqb1od8lcg.databases.appdomain.cloud\",\n",
    "    \"port\": \"31198\",\n",
    "    \"username\": \"wxg07204\",\n",
    "    \"password\": \"Nd2mxWrnTz8aU8qK\",\n",
    "    \"database\": \"bludb\",\n",
    "}"
   ]
  },
  {
   "cell_type": "code",
   "execution_count": null,
   "metadata": {},
   "outputs": [],
   "source": [
    "conn_str = (\n",
    "    f\"DATABASE={db_credentials['database']};\"\n",
    "    f\"HOSTNAME={db_credentials['hostname']};\"\n",
    "    f\"PORT={db_credentials['port']};\"\n",
    "    f\"PROTOCOL=TCPIP;\"\n",
    "    f\"UID={db_credentials['username']};\"\n",
    "    f\"PWD={db_credentials['password']};\"\n",
    ")"
   ]
  },
  {
   "cell_type": "code",
   "execution_count": null,
   "metadata": {},
   "outputs": [],
   "source": [
    "try:\n",
    "    conn = ibm_db.connect(conn_str, \"\", \"\")\n",
    "    print(\"Connected to the IBM Db2 database.\")\n",
    "except Exception as e:\n",
    "    print(f\"Unable to connect to the database: {e}\")\n",
    "    exit(1)"
   ]
  },
  {
   "cell_type": "code",
   "execution_count": null,
   "metadata": {},
   "outputs": [],
   "source": [
    "sql_query = \"SELECT * FROM table15\""
   ]
  },
  {
   "cell_type": "code",
   "execution_count": null,
   "metadata": {},
   "outputs": [],
   "source": [
    "try:\n",
    "    # Execute the SQL query and fetch the data into a Pandas DataFrame\n",
    "    df = pd.read_sql(sql_query, conn)"
   ]
  },
  {
   "cell_type": "code",
   "execution_count": null,
   "metadata": {},
   "outputs": [],
   "source": [
    "def handle_missing_values(df):\n",
    "        df.dropna(inplace=True)\n",
    "        return df"
   ]
  },
  {
   "cell_type": "code",
   "execution_count": null,
   "metadata": {},
   "outputs": [],
   "source": [
    "def standardize_numeric_column(df, column_name):\n",
    "        mean_value = df[column_name].mean()\n",
    "        std_deviation = df[column_name].std()\n",
    "        df['standardized_' + column_name] = (df[column_name] - mean_value) / std_deviation\n",
    "        return df"
   ]
  },
  {
   "cell_type": "code",
   "execution_count": null,
   "metadata": {},
   "outputs": [],
   "source": [
    "df = handle_missing_values(df)\n",
    "    df = standardize_numeric_column(df, 'Your_Column_Name')"
   ]
  },
  {
   "cell_type": "code",
   "execution_count": null,
   "metadata": {},
   "outputs": [],
   "source": [
    "except Exception as e:\n",
    "    print(f\"Error during data retrieval or data preprocessing: {e}\")\n"
   ]
  },
  {
   "cell_type": "code",
   "execution_count": null,
   "metadata": {},
   "outputs": [],
   "source": [
    "ibm_db.close(conn)\n",
    "print(\"Database connection closed.\")"
   ]
  }
 ],
 "metadata": {
  "kernelspec": {
   "display_name": "base",
   "language": "python",
   "name": "python3"
  },
  "language_info": {
   "codemirror_mode": {
    "name": "ipython",
    "version": 3
   },
   "file_extension": ".py",
   "mimetype": "text/x-python",
   "name": "python",
   "nbconvert_exporter": "python",
   "pygments_lexer": "ipython3",
   "version": "3.11.4"
  }
 },
 "nbformat": 4,
 "nbformat_minor": 2
}
