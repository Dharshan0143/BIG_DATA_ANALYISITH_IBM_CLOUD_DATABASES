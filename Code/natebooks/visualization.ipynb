{
 "cells": [
  {
   "cell_type": "code",
   "execution_count": null,
   "metadata": {},
   "outputs": [],
   "source": [
    "import ibm_db\n",
    "import pandas as pd\n",
    "import matplotlib.pyplot as plt\n",
    "import seaborn as sns"
   ]
  },
  {
   "cell_type": "code",
   "execution_count": null,
   "metadata": {},
   "outputs": [],
   "source": [
    "db_credentials = {\n",
    "   \"hostname\": \"0c77d6f2-5da9-48a9-81f8-86b520b87518.bs2io90l08kqb1od8lcg.databases.appdomain.cloud\",\n",
    "    \"port\": \"31198\",\n",
    "    \"username\": \"wxg07204\",\n",
    "    \"password\": \"Nd2mxWrnTz8aU8qK\",\n",
    "    \"database\": \"bludb\",\n",
    "}"
   ]
  },
  {
   "cell_type": "code",
   "execution_count": null,
   "metadata": {},
   "outputs": [],
   "source": [
    "# Establish a connection to the IBM Db2 database\n",
    "conn_str = (\n",
    "    f\"DATABASE={db_credentials['database']};\"\n",
    "    f\"HOSTNAME={db_credentials['hostname']};\"\n",
    "    f\"PORT={db_credentials['port']};\"\n",
    "    f\"PROTOCOL=TCPIP;\"\n",
    "    f\"UID={db_credentials['username']};\"\n",
    "    f\"PWD={db_credentials['password']};\"\n",
    ")"
   ]
  },
  {
   "cell_type": "code",
   "execution_count": null,
   "metadata": {},
   "outputs": [],
   "source": [
    "try:\n",
    "    conn = ibm_db.connect(conn_str, \"\", \"\")\n",
    "    print(\"Connected to the IBM Db2 database.\")\n",
    "except Exception as e:\n",
    "    print(f\"Unable to connect to the database: {e}\")\n",
    "    exit(1)"
   ]
  },
  {
   "cell_type": "code",
   "execution_count": null,
   "metadata": {},
   "outputs": [],
   "source": [
    "# SQL query to retrieve your dataset from the database\n",
    "sql_query = \"SELECT * FROM table15\" "
   ]
  },
  {
   "cell_type": "code",
   "execution_count": null,
   "metadata": {},
   "outputs": [],
   "source": [
    "try:\n",
    "    # Execute the SQL query and fetch the data into a Pandas DataFrame\n",
    "    df = pd.read_sql(sql_query, conn)\n",
    "    \n",
    "    # Create and explain visualizations interactively within your Jupyter notebook\n",
    "    #Create a scatter plot\n",
    "    plt.scatter(df['x_column'], df['y_column'])\n",
    "    plt.title(\"Scatter Plot\")\n",
    "    plt.xlabel(\"X-Axis\")\n",
    "    plt.ylabel(\"Y-Axis\")\n",
    "    plt.show()"
   ]
  },
  {
   "cell_type": "code",
   "execution_count": null,
   "metadata": {},
   "outputs": [],
   "source": [
    "except Exception as e:\n",
    "    print(f\"Error during data retrieval or data visualization: {e}\")\n"
   ]
  },
  {
   "cell_type": "code",
   "execution_count": null,
   "metadata": {},
   "outputs": [],
   "source": [
    "ibm_db.close(conn)\n",
    "print(\"Database connection closed.\")"
   ]
  }
 ],
 "metadata": {
  "kernelspec": {
   "display_name": "base",
   "language": "python",
   "name": "python3"
  },
  "language_info": {
   "codemirror_mode": {
    "name": "ipython",
    "version": 3
   },
   "file_extension": ".py",
   "mimetype": "text/x-python",
   "name": "python",
   "nbconvert_exporter": "python",
   "pygments_lexer": "ipython3",
   "version": "3.11.4"
  }
 },
 "nbformat": 4,
 "nbformat_minor": 2
}
